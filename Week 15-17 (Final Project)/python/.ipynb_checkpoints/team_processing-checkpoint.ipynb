{
 "cells": [
  {
   "cell_type": "code",
   "execution_count": 1,
   "id": "f9687f2c",
   "metadata": {},
   "outputs": [],
   "source": [
    "# import libraries\n",
    "import sqlite3\n",
    "import pandas as pd\n",
    "import os\n",
    "import ast"
   ]
  },
  {
   "cell_type": "code",
   "execution_count": 2,
   "id": "f82bba91",
   "metadata": {},
   "outputs": [],
   "source": [
    "# setup sqlite connection\n",
    "con = sqlite3.connect('../airflow/airflow.db')\n",
    "cur = con.cursor()"
   ]
  },
  {
   "cell_type": "code",
   "execution_count": 3,
   "id": "e43db554",
   "metadata": {},
   "outputs": [],
   "source": [
    "# import team data from csv\n",
    "raw_teams=pd.read_csv('../RawText/teams.csv')"
   ]
  },
  {
   "cell_type": "code",
   "execution_count": 5,
   "id": "fffdb9a1",
   "metadata": {},
   "outputs": [],
   "source": [
    "# rename columns to match sql table\n",
    "raw_teams.rename(columns = {\n",
    "    'id': 'TeamID', 'abbreviation': 'Abbreviation',\n",
    "    'city': 'City', 'conference': 'Conference', 'division': 'Division',\n",
    "    'full_name': 'FullName', 'name': 'TeamName'\n",
    "}, inplace = True)"
   ]
  },
  {
   "cell_type": "code",
   "execution_count": 7,
   "id": "abd5cfd2",
   "metadata": {},
   "outputs": [],
   "source": [
    "# write to sql database\n",
    "raw_teams.to_sql(name = 'teams', con=con, index=False, if_exists='append')"
   ]
  },
  {
   "cell_type": "code",
   "execution_count": 8,
   "id": "def28fe6",
   "metadata": {},
   "outputs": [],
   "source": [
    "# finalize and close connections\n",
    "con.commit()\n",
    "cur.close()\n",
    "con.close()"
   ]
  },
  {
   "cell_type": "code",
   "execution_count": null,
   "id": "2532042d",
   "metadata": {},
   "outputs": [],
   "source": []
  }
 ],
 "metadata": {
  "kernelspec": {
   "display_name": "Python 3 (ipykernel)",
   "language": "python",
   "name": "python3"
  },
  "language_info": {
   "codemirror_mode": {
    "name": "ipython",
    "version": 3
   },
   "file_extension": ".py",
   "mimetype": "text/x-python",
   "name": "python",
   "nbconvert_exporter": "python",
   "pygments_lexer": "ipython3",
   "version": "3.7.10"
  }
 },
 "nbformat": 4,
 "nbformat_minor": 5
}
