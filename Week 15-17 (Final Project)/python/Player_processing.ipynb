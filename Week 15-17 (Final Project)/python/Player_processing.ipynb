{
 "cells": [
  {
   "cell_type": "code",
   "execution_count": 1,
   "id": "6b960ab4",
   "metadata": {},
   "outputs": [],
   "source": [
    "# import libraries\n",
    "import sqlite3\n",
    "import pandas as pd\n",
    "import os\n",
    "import ast"
   ]
  },
  {
   "cell_type": "code",
   "execution_count": 2,
   "id": "a396d808",
   "metadata": {},
   "outputs": [],
   "source": [
    "# setup sqlite connection\n",
    "con = sqlite3.connect('../airflow/airflow.db')\n",
    "cur = con.cursor()"
   ]
  },
  {
   "cell_type": "code",
   "execution_count": 3,
   "id": "7d885703",
   "metadata": {},
   "outputs": [],
   "source": [
    "# prepare player files and load into df\n",
    "file_list = os.listdir('../RawText')\n",
    "player_files = [x for x in file_list if x.startswith('players')]\n",
    "li = []\n",
    "for file in player_files:\n",
    "    df=pd.read_csv(f'../RawText/{file}')\n",
    "    li.append(df)\n",
    "players_raw = pd.concat(li)"
   ]
  },
  {
   "cell_type": "code",
   "execution_count": 6,
   "id": "a14cf54e",
   "metadata": {
    "scrolled": true
   },
   "outputs": [],
   "source": [
    "# extract teamid from team dictionary\n",
    "players_raw['teamid'] = players_raw.apply(lambda row: ast.literal_eval(row['team'])['id'], axis=1)\n"
   ]
  },
  {
   "cell_type": "code",
   "execution_count": 8,
   "id": "5f94dad0",
   "metadata": {},
   "outputs": [],
   "source": [
    "# grab only columns going to database\n",
    "players_clean = players_raw[['id', 'first_name', 'last_name', 'position', 'teamid']]"
   ]
  },
  {
   "cell_type": "code",
   "execution_count": 11,
   "id": "a74159ec",
   "metadata": {},
   "outputs": [
    {
     "name": "stderr",
     "output_type": "stream",
     "text": [
      "/home/ec2-user/.local/lib/python3.7/site-packages/pandas/core/frame.py:4449: SettingWithCopyWarning: \n",
      "A value is trying to be set on a copy of a slice from a DataFrame\n",
      "\n",
      "See the caveats in the documentation: https://pandas.pydata.org/pandas-docs/stable/user_guide/indexing.html#returning-a-view-versus-a-copy\n",
      "  errors=errors,\n"
     ]
    }
   ],
   "source": [
    "# rename columns so they match sql table\n",
    "players_clean.rename(columns = {'id': 'PlayerID', 'first_name': 'FirstName', 'last_name': 'LastName', 'position': 'Position', 'teamid': 'TeamID'}, inplace = True)"
   ]
  },
  {
   "cell_type": "code",
   "execution_count": 30,
   "id": "727cf499",
   "metadata": {},
   "outputs": [
    {
     "name": "stderr",
     "output_type": "stream",
     "text": [
      "/home/ec2-user/.local/lib/python3.7/site-packages/ipykernel_launcher.py:1: SettingWithCopyWarning: \n",
      "A value is trying to be set on a copy of a slice from a DataFrame.\n",
      "Try using .loc[row_indexer,col_indexer] = value instead\n",
      "\n",
      "See the caveats in the documentation: https://pandas.pydata.org/pandas-docs/stable/user_guide/indexing.html#returning-a-view-versus-a-copy\n",
      "  \"\"\"Entry point for launching an IPython kernel.\n",
      "/home/ec2-user/.local/lib/python3.7/site-packages/ipykernel_launcher.py:2: SettingWithCopyWarning: \n",
      "A value is trying to be set on a copy of a slice from a DataFrame\n",
      "\n",
      "See the caveats in the documentation: https://pandas.pydata.org/pandas-docs/stable/user_guide/indexing.html#returning-a-view-versus-a-copy\n",
      "  \n"
     ]
    }
   ],
   "source": [
    "# Clean up some bad data\n",
    "players_clean['LastName'] = players_clean['LastName'].fillna(value='None')\n",
    "players_clean.drop_duplicates(inplace=True)"
   ]
  },
  {
   "cell_type": "code",
   "execution_count": 32,
   "id": "1a29e122",
   "metadata": {},
   "outputs": [],
   "source": [
    "# write to sql database\n",
    "players_clean.to_sql(name = 'players', con=con, index=False, if_exists='append')"
   ]
  },
  {
   "cell_type": "code",
   "execution_count": 33,
   "id": "0d6c2fc4",
   "metadata": {},
   "outputs": [],
   "source": [
    "# finalize and close connections\n",
    "con.commit()\n",
    "cur.close()\n",
    "con.close()"
   ]
  }
 ],
 "metadata": {
  "kernelspec": {
   "display_name": "Python 3 (ipykernel)",
   "language": "python",
   "name": "python3"
  },
  "language_info": {
   "codemirror_mode": {
    "name": "ipython",
    "version": 3
   },
   "file_extension": ".py",
   "mimetype": "text/x-python",
   "name": "python",
   "nbconvert_exporter": "python",
   "pygments_lexer": "ipython3",
   "version": "3.7.10"
  }
 },
 "nbformat": 4,
 "nbformat_minor": 5
}
