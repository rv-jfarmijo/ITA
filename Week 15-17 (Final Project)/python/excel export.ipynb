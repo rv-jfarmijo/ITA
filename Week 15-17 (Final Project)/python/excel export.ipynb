{
 "cells": [
  {
   "cell_type": "code",
   "execution_count": 1,
   "id": "b6e2d821",
   "metadata": {},
   "outputs": [],
   "source": [
    "# import libraries\n",
    "import sqlite3\n",
    "import pandas as pd\n",
    "import os\n",
    "import ast\n",
    "from datetime import datetime"
   ]
  },
  {
   "cell_type": "code",
   "execution_count": 2,
   "id": "785e2638",
   "metadata": {},
   "outputs": [],
   "source": [
    "# setup sqlite connection\n",
    "con = sqlite3.connect('../airflow/airflow.db')\n",
    "cur = con.cursor()"
   ]
  },
  {
   "cell_type": "code",
   "execution_count": 5,
   "id": "51cbc4de",
   "metadata": {},
   "outputs": [],
   "source": [
    "excel_data = pd.read_sql(\"\"\"\n",
    "                        select * from cases a\n",
    "                        join arena b\n",
    "                        on a.City = b.City\n",
    "                        join games c\n",
    "                        on a.date = c.date\n",
    "                        and b.arena = c.arena \n",
    "                        where a.cases is not null;\n",
    "\"\"\", con)"
   ]
  },
  {
   "cell_type": "code",
   "execution_count": 7,
   "id": "177f60c4",
   "metadata": {},
   "outputs": [],
   "source": [
    "excel_data.to_excel('case_data.xlsx', index=False)"
   ]
  },
  {
   "cell_type": "code",
   "execution_count": null,
   "id": "36be610d",
   "metadata": {},
   "outputs": [],
   "source": []
  }
 ],
 "metadata": {
  "kernelspec": {
   "display_name": "Python 3 (ipykernel)",
   "language": "python",
   "name": "python3"
  },
  "language_info": {
   "codemirror_mode": {
    "name": "ipython",
    "version": 3
   },
   "file_extension": ".py",
   "mimetype": "text/x-python",
   "name": "python",
   "nbconvert_exporter": "python",
   "pygments_lexer": "ipython3",
   "version": "3.7.10"
  }
 },
 "nbformat": 4,
 "nbformat_minor": 5
}
