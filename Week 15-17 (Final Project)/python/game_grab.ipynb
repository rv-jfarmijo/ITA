{
 "cells": [
  {
   "cell_type": "code",
   "execution_count": 1,
   "id": "30e40944",
   "metadata": {},
   "outputs": [],
   "source": [
    "# requests\n",
    "import requests\n",
    "import pandas as pd\n",
    "import time"
   ]
  },
  {
   "cell_type": "code",
   "execution_count": 3,
   "id": "26ca2ac3",
   "metadata": {},
   "outputs": [],
   "source": [
    "\n",
    "# pulling data from balldontlie.io API\n",
    "\n",
    "\n",
    "# Game data pull\n",
    "game_pages = 100\n",
    "\n",
    "\n",
    "for page in range(1, game_pages+1):\n",
    "    games_url = f'https://www.balldontlie.io/api/v1/games?start_date=2020-12-20&page={page}'\n",
    "    r = requests.get(games_url)\n",
    "    j = r.json()['data']\n",
    "    df = pd.DataFrame.from_dict(j)\n",
    "    df.to_csv(f'../RawText/games{page}.csv', index=False)\n",
    "    time.sleep(5)\n"
   ]
  },
  {
   "cell_type": "code",
   "execution_count": null,
   "id": "10cdb9ac",
   "metadata": {},
   "outputs": [],
   "source": []
  }
 ],
 "metadata": {
  "kernelspec": {
   "display_name": "Python 3 (ipykernel)",
   "language": "python",
   "name": "python3"
  },
  "language_info": {
   "codemirror_mode": {
    "name": "ipython",
    "version": 3
   },
   "file_extension": ".py",
   "mimetype": "text/x-python",
   "name": "python",
   "nbconvert_exporter": "python",
   "pygments_lexer": "ipython3",
   "version": "3.7.10"
  }
 },
 "nbformat": 4,
 "nbformat_minor": 5
}
