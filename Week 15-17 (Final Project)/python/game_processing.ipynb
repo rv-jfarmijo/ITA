{
 "cells": [
  {
   "cell_type": "code",
   "execution_count": 1,
   "id": "4d00ba3f",
   "metadata": {},
   "outputs": [],
   "source": [
    "# import libraries\n",
    "import sqlite3\n",
    "import pandas as pd\n",
    "import os\n",
    "import ast\n",
    "from datetime import datetime"
   ]
  },
  {
   "cell_type": "code",
   "execution_count": 2,
   "id": "10158e47",
   "metadata": {},
   "outputs": [],
   "source": [
    "# setup sqlite connection\n",
    "con = sqlite3.connect('../airflow/airflow.db')\n",
    "cur = con.cursor()"
   ]
  },
  {
   "cell_type": "code",
   "execution_count": null,
   "id": "004627cb",
   "metadata": {},
   "outputs": [],
   "source": [
    "# prepare player files and load into df\n",
    "file_list = os.listdir('../RawText')\n",
    "game_files = [x for x in file_list if x.startswith('games')]\n",
    "li = []\n",
    "for file in game_files:\n",
    "    df=pd.read_csv(f'../RawText/{file}')\n",
    "    li.append(df)\n",
    "games_raw = pd.concat(li)"
   ]
  },
  {
   "cell_type": "code",
   "execution_count": null,
   "id": "46ffef46",
   "metadata": {},
   "outputs": [],
   "source": [
    "# extract teamid from team dictionary\n",
    "games_raw['HomeTeamID'] = games_raw.apply(lambda row: ast.literal_eval(row['home_team'])['id'], axis=1)\n",
    "games_raw['AwayTeamID'] = games_raw.apply(lambda row: ast.literal_eval(row['visitor_team'])['id'], axis=1)\n",
    "games_raw['date_clean'] = games_raw.apply(lambda row: row['date'].split('T')[0], axis=1)"
   ]
  },
  {
   "cell_type": "code",
   "execution_count": null,
   "id": "1f73d6f5",
   "metadata": {},
   "outputs": [],
   "source": [
    "games_raw_load = games_raw[['id', 'date_clean', 'HomeTeamID', 'home_team_score', 'AwayTeamID', 'visitor_team_score', 'postseason', 'season']]"
   ]
  },
  {
   "cell_type": "code",
   "execution_count": null,
   "id": "31f32494",
   "metadata": {
    "scrolled": true
   },
   "outputs": [],
   "source": [
    "games_raw_load.head(100)"
   ]
  },
  {
   "cell_type": "code",
   "execution_count": 4,
   "id": "e8f86648",
   "metadata": {},
   "outputs": [],
   "source": [
    "# prepare second game files with attendance and load into df\n",
    "file_list = os.listdir('../RawText')\n",
    "game_files2 = [x for x in file_list if x.startswith('sportsref')]\n",
    "li = []\n",
    "for file in game_files2:\n",
    "    df=pd.read_excel(f'../RawText/{file}')\n",
    "    li.append(df)\n",
    "games_raw2 = pd.concat(li)"
   ]
  },
  {
   "cell_type": "code",
   "execution_count": 5,
   "id": "d1137186",
   "metadata": {},
   "outputs": [],
   "source": [
    "games_raw2['date_clean'] = games_raw2.apply(lambda row: datetime.strftime(datetime.strptime(row['Date'], '%a, %b %d, %Y'), '%Y-%m-%d'), axis=1)"
   ]
  },
  {
   "cell_type": "code",
   "execution_count": 6,
   "id": "1fee1672",
   "metadata": {},
   "outputs": [],
   "source": [
    "games_raw_load2 = games_raw2[['date_clean', 'Visitor/Neutral', 'PTS', 'Home/Neutral', 'PTS.1', 'Attend.']]"
   ]
  },
  {
   "cell_type": "code",
   "execution_count": null,
   "id": "84a27dc4",
   "metadata": {},
   "outputs": [],
   "source": []
  },
  {
   "cell_type": "code",
   "execution_count": 7,
   "id": "ce552972",
   "metadata": {},
   "outputs": [
    {
     "data": {
      "text/html": [
       "<div>\n",
       "<style scoped>\n",
       "    .dataframe tbody tr th:only-of-type {\n",
       "        vertical-align: middle;\n",
       "    }\n",
       "\n",
       "    .dataframe tbody tr th {\n",
       "        vertical-align: top;\n",
       "    }\n",
       "\n",
       "    .dataframe thead th {\n",
       "        text-align: right;\n",
       "    }\n",
       "</style>\n",
       "<table border=\"1\" class=\"dataframe\">\n",
       "  <thead>\n",
       "    <tr style=\"text-align: right;\">\n",
       "      <th></th>\n",
       "      <th>date_clean</th>\n",
       "      <th>Visitor/Neutral</th>\n",
       "      <th>PTS</th>\n",
       "      <th>Home/Neutral</th>\n",
       "      <th>PTS.1</th>\n",
       "      <th>Attend.</th>\n",
       "    </tr>\n",
       "  </thead>\n",
       "  <tbody>\n",
       "    <tr>\n",
       "      <th>0</th>\n",
       "      <td>2020-12-22</td>\n",
       "      <td>Golden State Warriors</td>\n",
       "      <td>99.0</td>\n",
       "      <td>Brooklyn Nets</td>\n",
       "      <td>125.0</td>\n",
       "      <td>0.0</td>\n",
       "    </tr>\n",
       "    <tr>\n",
       "      <th>1</th>\n",
       "      <td>2020-12-22</td>\n",
       "      <td>Los Angeles Clippers</td>\n",
       "      <td>116.0</td>\n",
       "      <td>Los Angeles Lakers</td>\n",
       "      <td>109.0</td>\n",
       "      <td>0.0</td>\n",
       "    </tr>\n",
       "    <tr>\n",
       "      <th>2</th>\n",
       "      <td>2020-12-23</td>\n",
       "      <td>Charlotte Hornets</td>\n",
       "      <td>114.0</td>\n",
       "      <td>Cleveland Cavaliers</td>\n",
       "      <td>121.0</td>\n",
       "      <td>300.0</td>\n",
       "    </tr>\n",
       "    <tr>\n",
       "      <th>3</th>\n",
       "      <td>2020-12-23</td>\n",
       "      <td>New York Knicks</td>\n",
       "      <td>107.0</td>\n",
       "      <td>Indiana Pacers</td>\n",
       "      <td>121.0</td>\n",
       "      <td>0.0</td>\n",
       "    </tr>\n",
       "    <tr>\n",
       "      <th>4</th>\n",
       "      <td>2020-12-23</td>\n",
       "      <td>Miami Heat</td>\n",
       "      <td>107.0</td>\n",
       "      <td>Orlando Magic</td>\n",
       "      <td>113.0</td>\n",
       "      <td>3396.0</td>\n",
       "    </tr>\n",
       "  </tbody>\n",
       "</table>\n",
       "</div>"
      ],
      "text/plain": [
       "   date_clean        Visitor/Neutral    PTS         Home/Neutral  PTS.1  \\\n",
       "0  2020-12-22  Golden State Warriors   99.0        Brooklyn Nets  125.0   \n",
       "1  2020-12-22   Los Angeles Clippers  116.0   Los Angeles Lakers  109.0   \n",
       "2  2020-12-23      Charlotte Hornets  114.0  Cleveland Cavaliers  121.0   \n",
       "3  2020-12-23        New York Knicks  107.0       Indiana Pacers  121.0   \n",
       "4  2020-12-23             Miami Heat  107.0        Orlando Magic  113.0   \n",
       "\n",
       "   Attend.  \n",
       "0      0.0  \n",
       "1      0.0  \n",
       "2    300.0  \n",
       "3      0.0  \n",
       "4   3396.0  "
      ]
     },
     "execution_count": 7,
     "metadata": {},
     "output_type": "execute_result"
    }
   ],
   "source": [
    "games_raw_load2.head()"
   ]
  },
  {
   "cell_type": "code",
   "execution_count": 8,
   "id": "3073749d",
   "metadata": {
    "scrolled": true
   },
   "outputs": [],
   "source": [
    "# write to sql database\n",
    "games_raw_load2.to_sql(name = 'games2', con=con, index=False, if_exists='append')"
   ]
  },
  {
   "cell_type": "code",
   "execution_count": 9,
   "id": "22c24f7e",
   "metadata": {},
   "outputs": [],
   "source": [
    "# finalize and close connections\n",
    "con.commit()\n",
    "cur.close()\n",
    "con.close()"
   ]
  },
  {
   "cell_type": "code",
   "execution_count": null,
   "id": "b5095f69",
   "metadata": {},
   "outputs": [],
   "source": []
  }
 ],
 "metadata": {
  "kernelspec": {
   "display_name": "Python 3 (ipykernel)",
   "language": "python",
   "name": "python3"
  },
  "language_info": {
   "codemirror_mode": {
    "name": "ipython",
    "version": 3
   },
   "file_extension": ".py",
   "mimetype": "text/x-python",
   "name": "python",
   "nbconvert_exporter": "python",
   "pygments_lexer": "ipython3",
   "version": "3.7.10"
  }
 },
 "nbformat": 4,
 "nbformat_minor": 5
}
