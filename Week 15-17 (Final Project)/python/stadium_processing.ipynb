{
 "cells": [
  {
   "cell_type": "code",
   "execution_count": 1,
   "id": "6b20d531",
   "metadata": {},
   "outputs": [],
   "source": [
    "# import libraries\n",
    "import sqlite3\n",
    "import pandas as pd\n",
    "import os\n",
    "import ast"
   ]
  },
  {
   "cell_type": "code",
   "execution_count": 2,
   "id": "ed6d8780",
   "metadata": {},
   "outputs": [],
   "source": [
    "# setup sqlite connection\n",
    "con = sqlite3.connect('../airflow/airflow.db')\n",
    "cur = con.cursor()"
   ]
  },
  {
   "cell_type": "code",
   "execution_count": 3,
   "id": "64bcb752",
   "metadata": {},
   "outputs": [],
   "source": [
    "# import stadium data from csv\n",
    "raw_stadiums=pd.read_csv('../RawText/stadiums.csv')"
   ]
  },
  {
   "cell_type": "code",
   "execution_count": 4,
   "id": "8ec7a0ba",
   "metadata": {},
   "outputs": [],
   "source": [
    "# Keep only the columns in sql table\n",
    "stadiums = raw_stadiums[['Arena', 'City', 'State', 'Capacity', 'Opened']]"
   ]
  },
  {
   "cell_type": "code",
   "execution_count": 5,
   "id": "f304144c",
   "metadata": {},
   "outputs": [],
   "source": [
    "# write to sql database\n",
    "stadiums.to_sql(name = 'arena', con=con, index=False, if_exists='append')"
   ]
  },
  {
   "cell_type": "code",
   "execution_count": 6,
   "id": "85e05013",
   "metadata": {},
   "outputs": [],
   "source": [
    "# finalize and close connections\n",
    "con.commit()\n",
    "cur.close()\n",
    "con.close()"
   ]
  },
  {
   "cell_type": "code",
   "execution_count": null,
   "id": "4c3f1535",
   "metadata": {},
   "outputs": [],
   "source": []
  }
 ],
 "metadata": {
  "kernelspec": {
   "display_name": "Python 3 (ipykernel)",
   "language": "python",
   "name": "python3"
  },
  "language_info": {
   "codemirror_mode": {
    "name": "ipython",
    "version": 3
   },
   "file_extension": ".py",
   "mimetype": "text/x-python",
   "name": "python",
   "nbconvert_exporter": "python",
   "pygments_lexer": "ipython3",
   "version": "3.7.10"
  }
 },
 "nbformat": 4,
 "nbformat_minor": 5
}
