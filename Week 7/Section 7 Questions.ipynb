{
 "cells": [
  {
   "cell_type": "markdown",
   "metadata": {},
   "source": [
    "# Extra Examples - Pivoting\n",
    "\n",
    "Let's use customer satisfaction for this example: https://www.kaggle.com/johndddddd/customer-satisfaction\n",
    "\n",
    "We'll load in via `pd.read_excel`, so you might need to run `pip install xlrd` and restart your kernel. It will take a long time to load the data, be warned. If you have any issues, I'll save it out as a csv and include it as well so you can use `read_csv`.\n",
    "\n",
    "Lets investigate:\n",
    "\n",
    "1. Assign a numeric ranking to \"satisfaction_v2\"\n",
    "2. Pivot to show average satisfaction by gender and class.\n",
    "3. What is most correlated with satisfaction\n",
    "4. Are the online features correlated in count?"
   ]
  },
  {
   "cell_type": "code",
   "execution_count": 13,
   "metadata": {
    "ExecuteTime": {
     "end_time": "2020-03-08T01:41:20.004369Z",
     "start_time": "2020-03-08T01:40:46.481394Z"
    }
   },
   "outputs": [
    {
     "data": {
      "text/html": [
       "<div>\n",
       "<style scoped>\n",
       "    .dataframe tbody tr th:only-of-type {\n",
       "        vertical-align: middle;\n",
       "    }\n",
       "\n",
       "    .dataframe tbody tr th {\n",
       "        vertical-align: top;\n",
       "    }\n",
       "\n",
       "    .dataframe thead th {\n",
       "        text-align: right;\n",
       "    }\n",
       "</style>\n",
       "<table border=\"1\" class=\"dataframe\">\n",
       "  <thead>\n",
       "    <tr style=\"text-align: right;\">\n",
       "      <th></th>\n",
       "      <th>id</th>\n",
       "      <th>satisfaction_v2</th>\n",
       "      <th>Gender</th>\n",
       "      <th>Customer Type</th>\n",
       "      <th>Age</th>\n",
       "      <th>Type of Travel</th>\n",
       "      <th>Class</th>\n",
       "      <th>Flight Distance</th>\n",
       "      <th>Seat comfort</th>\n",
       "      <th>Departure/Arrival time convenient</th>\n",
       "      <th>...</th>\n",
       "      <th>Online support</th>\n",
       "      <th>Ease of Online booking</th>\n",
       "      <th>On-board service</th>\n",
       "      <th>Leg room service</th>\n",
       "      <th>Baggage handling</th>\n",
       "      <th>Checkin service</th>\n",
       "      <th>Cleanliness</th>\n",
       "      <th>Online boarding</th>\n",
       "      <th>Departure Delay in Minutes</th>\n",
       "      <th>Arrival Delay in Minutes</th>\n",
       "    </tr>\n",
       "  </thead>\n",
       "  <tbody>\n",
       "    <tr>\n",
       "      <th>0</th>\n",
       "      <td>11112</td>\n",
       "      <td>satisfied</td>\n",
       "      <td>Female</td>\n",
       "      <td>Loyal Customer</td>\n",
       "      <td>65</td>\n",
       "      <td>Personal Travel</td>\n",
       "      <td>Eco</td>\n",
       "      <td>265</td>\n",
       "      <td>0</td>\n",
       "      <td>0</td>\n",
       "      <td>...</td>\n",
       "      <td>2</td>\n",
       "      <td>3</td>\n",
       "      <td>3</td>\n",
       "      <td>0</td>\n",
       "      <td>3</td>\n",
       "      <td>5</td>\n",
       "      <td>3</td>\n",
       "      <td>2</td>\n",
       "      <td>0</td>\n",
       "      <td>0.0</td>\n",
       "    </tr>\n",
       "    <tr>\n",
       "      <th>1</th>\n",
       "      <td>110278</td>\n",
       "      <td>satisfied</td>\n",
       "      <td>Male</td>\n",
       "      <td>Loyal Customer</td>\n",
       "      <td>47</td>\n",
       "      <td>Personal Travel</td>\n",
       "      <td>Business</td>\n",
       "      <td>2464</td>\n",
       "      <td>0</td>\n",
       "      <td>0</td>\n",
       "      <td>...</td>\n",
       "      <td>2</td>\n",
       "      <td>3</td>\n",
       "      <td>4</td>\n",
       "      <td>4</td>\n",
       "      <td>4</td>\n",
       "      <td>2</td>\n",
       "      <td>3</td>\n",
       "      <td>2</td>\n",
       "      <td>310</td>\n",
       "      <td>305.0</td>\n",
       "    </tr>\n",
       "    <tr>\n",
       "      <th>2</th>\n",
       "      <td>103199</td>\n",
       "      <td>satisfied</td>\n",
       "      <td>Female</td>\n",
       "      <td>Loyal Customer</td>\n",
       "      <td>15</td>\n",
       "      <td>Personal Travel</td>\n",
       "      <td>Eco</td>\n",
       "      <td>2138</td>\n",
       "      <td>0</td>\n",
       "      <td>0</td>\n",
       "      <td>...</td>\n",
       "      <td>2</td>\n",
       "      <td>2</td>\n",
       "      <td>3</td>\n",
       "      <td>3</td>\n",
       "      <td>4</td>\n",
       "      <td>4</td>\n",
       "      <td>4</td>\n",
       "      <td>2</td>\n",
       "      <td>0</td>\n",
       "      <td>0.0</td>\n",
       "    </tr>\n",
       "    <tr>\n",
       "      <th>3</th>\n",
       "      <td>47462</td>\n",
       "      <td>satisfied</td>\n",
       "      <td>Female</td>\n",
       "      <td>Loyal Customer</td>\n",
       "      <td>60</td>\n",
       "      <td>Personal Travel</td>\n",
       "      <td>Eco</td>\n",
       "      <td>623</td>\n",
       "      <td>0</td>\n",
       "      <td>0</td>\n",
       "      <td>...</td>\n",
       "      <td>3</td>\n",
       "      <td>1</td>\n",
       "      <td>1</td>\n",
       "      <td>0</td>\n",
       "      <td>1</td>\n",
       "      <td>4</td>\n",
       "      <td>1</td>\n",
       "      <td>3</td>\n",
       "      <td>0</td>\n",
       "      <td>0.0</td>\n",
       "    </tr>\n",
       "    <tr>\n",
       "      <th>4</th>\n",
       "      <td>120011</td>\n",
       "      <td>satisfied</td>\n",
       "      <td>Female</td>\n",
       "      <td>Loyal Customer</td>\n",
       "      <td>70</td>\n",
       "      <td>Personal Travel</td>\n",
       "      <td>Eco</td>\n",
       "      <td>354</td>\n",
       "      <td>0</td>\n",
       "      <td>0</td>\n",
       "      <td>...</td>\n",
       "      <td>4</td>\n",
       "      <td>2</td>\n",
       "      <td>2</td>\n",
       "      <td>0</td>\n",
       "      <td>2</td>\n",
       "      <td>4</td>\n",
       "      <td>2</td>\n",
       "      <td>5</td>\n",
       "      <td>0</td>\n",
       "      <td>0.0</td>\n",
       "    </tr>\n",
       "  </tbody>\n",
       "</table>\n",
       "<p>5 rows × 24 columns</p>\n",
       "</div>"
      ],
      "text/plain": [
       "       id satisfaction_v2  Gender   Customer Type  Age   Type of Travel  \\\n",
       "0   11112       satisfied  Female  Loyal Customer   65  Personal Travel   \n",
       "1  110278       satisfied    Male  Loyal Customer   47  Personal Travel   \n",
       "2  103199       satisfied  Female  Loyal Customer   15  Personal Travel   \n",
       "3   47462       satisfied  Female  Loyal Customer   60  Personal Travel   \n",
       "4  120011       satisfied  Female  Loyal Customer   70  Personal Travel   \n",
       "\n",
       "      Class  Flight Distance  Seat comfort  Departure/Arrival time convenient  \\\n",
       "0       Eco              265             0                                  0   \n",
       "1  Business             2464             0                                  0   \n",
       "2       Eco             2138             0                                  0   \n",
       "3       Eco              623             0                                  0   \n",
       "4       Eco              354             0                                  0   \n",
       "\n",
       "   ...  Online support  Ease of Online booking  On-board service  \\\n",
       "0  ...               2                       3                 3   \n",
       "1  ...               2                       3                 4   \n",
       "2  ...               2                       2                 3   \n",
       "3  ...               3                       1                 1   \n",
       "4  ...               4                       2                 2   \n",
       "\n",
       "   Leg room service  Baggage handling  Checkin service  Cleanliness  \\\n",
       "0                 0                 3                5            3   \n",
       "1                 4                 4                2            3   \n",
       "2                 3                 4                4            4   \n",
       "3                 0                 1                4            1   \n",
       "4                 0                 2                4            2   \n",
       "\n",
       "   Online boarding  Departure Delay in Minutes  Arrival Delay in Minutes  \n",
       "0                2                           0                       0.0  \n",
       "1                2                         310                     305.0  \n",
       "2                2                           0                       0.0  \n",
       "3                3                           0                       0.0  \n",
       "4                5                           0                       0.0  \n",
       "\n",
       "[5 rows x 24 columns]"
      ]
     },
     "execution_count": 13,
     "metadata": {},
     "output_type": "execute_result"
    }
   ],
   "source": [
    "import pandas as pd\n",
    "df = pd.read_excel(\"satisfaction.xlsx\")\n",
    "df.to_csv(\"satisfaction.csv\", index=False, float_format=\"%0.1f\")\n",
    "df.head()"
   ]
  },
  {
   "cell_type": "code",
   "execution_count": 2,
   "metadata": {
    "ExecuteTime": {
     "end_time": "2020-02-03T06:31:08.836834Z",
     "start_time": "2020-02-03T06:31:08.800931Z"
    }
   },
   "outputs": [
    {
     "name": "stdout",
     "output_type": "stream",
     "text": [
      "<class 'pandas.core.frame.DataFrame'>\n",
      "RangeIndex: 129880 entries, 0 to 129879\n",
      "Data columns (total 24 columns):\n",
      " #   Column                             Non-Null Count   Dtype  \n",
      "---  ------                             --------------   -----  \n",
      " 0   id                                 129880 non-null  int64  \n",
      " 1   satisfaction_v2                    129880 non-null  object \n",
      " 2   Gender                             129880 non-null  object \n",
      " 3   Customer Type                      129880 non-null  object \n",
      " 4   Age                                129880 non-null  int64  \n",
      " 5   Type of Travel                     129880 non-null  object \n",
      " 6   Class                              129880 non-null  object \n",
      " 7   Flight Distance                    129880 non-null  int64  \n",
      " 8   Seat comfort                       129880 non-null  int64  \n",
      " 9   Departure/Arrival time convenient  129880 non-null  int64  \n",
      " 10  Food and drink                     129880 non-null  int64  \n",
      " 11  Gate location                      129880 non-null  int64  \n",
      " 12  Inflight wifi service              129880 non-null  int64  \n",
      " 13  Inflight entertainment             129880 non-null  int64  \n",
      " 14  Online support                     129880 non-null  int64  \n",
      " 15  Ease of Online booking             129880 non-null  int64  \n",
      " 16  On-board service                   129880 non-null  int64  \n",
      " 17  Leg room service                   129880 non-null  int64  \n",
      " 18  Baggage handling                   129880 non-null  int64  \n",
      " 19  Checkin service                    129880 non-null  int64  \n",
      " 20  Cleanliness                        129880 non-null  int64  \n",
      " 21  Online boarding                    129880 non-null  int64  \n",
      " 22  Departure Delay in Minutes         129880 non-null  int64  \n",
      " 23  Arrival Delay in Minutes           129487 non-null  float64\n",
      "dtypes: float64(1), int64(18), object(5)\n",
      "memory usage: 23.8+ MB\n"
     ]
    }
   ],
   "source": [
    "df.info()"
   ]
  },
  {
   "cell_type": "markdown",
   "metadata": {},
   "source": [
    "## Make satisfaction_v2 numeric"
   ]
  },
  {
   "cell_type": "code",
   "execution_count": 3,
   "metadata": {
    "ExecuteTime": {
     "end_time": "2020-02-03T09:20:18.051417Z",
     "start_time": "2020-02-03T09:20:18.048423Z"
    }
   },
   "outputs": [
    {
     "data": {
      "text/plain": [
       "array(['satisfied', 'neutral or dissatisfied'], dtype=object)"
      ]
     },
     "execution_count": 3,
     "metadata": {},
     "output_type": "execute_result"
    }
   ],
   "source": [
    "df.satisfaction_v2.unique()"
   ]
  },
  {
   "cell_type": "code",
   "execution_count": 14,
   "metadata": {},
   "outputs": [],
   "source": [
    "df[\"satisfaction_binary\"] = [1 if s == 'satisfied' else 0 for s in df['satisfaction_v2']] "
   ]
  },
  {
   "cell_type": "code",
   "execution_count": 5,
   "metadata": {},
   "outputs": [
    {
     "data": {
      "text/html": [
       "<div>\n",
       "<style scoped>\n",
       "    .dataframe tbody tr th:only-of-type {\n",
       "        vertical-align: middle;\n",
       "    }\n",
       "\n",
       "    .dataframe tbody tr th {\n",
       "        vertical-align: top;\n",
       "    }\n",
       "\n",
       "    .dataframe thead th {\n",
       "        text-align: right;\n",
       "    }\n",
       "</style>\n",
       "<table border=\"1\" class=\"dataframe\">\n",
       "  <thead>\n",
       "    <tr style=\"text-align: right;\">\n",
       "      <th></th>\n",
       "      <th>id</th>\n",
       "      <th>satisfaction_v2</th>\n",
       "      <th>Gender</th>\n",
       "      <th>Customer Type</th>\n",
       "      <th>Age</th>\n",
       "      <th>Type of Travel</th>\n",
       "      <th>Class</th>\n",
       "      <th>Flight Distance</th>\n",
       "      <th>Seat comfort</th>\n",
       "      <th>Departure/Arrival time convenient</th>\n",
       "      <th>...</th>\n",
       "      <th>Ease of Online booking</th>\n",
       "      <th>On-board service</th>\n",
       "      <th>Leg room service</th>\n",
       "      <th>Baggage handling</th>\n",
       "      <th>Checkin service</th>\n",
       "      <th>Cleanliness</th>\n",
       "      <th>Online boarding</th>\n",
       "      <th>Departure Delay in Minutes</th>\n",
       "      <th>Arrival Delay in Minutes</th>\n",
       "      <th>satisfaction_binary</th>\n",
       "    </tr>\n",
       "  </thead>\n",
       "  <tbody>\n",
       "    <tr>\n",
       "      <th>0</th>\n",
       "      <td>11112</td>\n",
       "      <td>satisfied</td>\n",
       "      <td>Female</td>\n",
       "      <td>Loyal Customer</td>\n",
       "      <td>65</td>\n",
       "      <td>Personal Travel</td>\n",
       "      <td>Eco</td>\n",
       "      <td>265</td>\n",
       "      <td>0</td>\n",
       "      <td>0</td>\n",
       "      <td>...</td>\n",
       "      <td>3</td>\n",
       "      <td>3</td>\n",
       "      <td>0</td>\n",
       "      <td>3</td>\n",
       "      <td>5</td>\n",
       "      <td>3</td>\n",
       "      <td>2</td>\n",
       "      <td>0</td>\n",
       "      <td>0.0</td>\n",
       "      <td>1</td>\n",
       "    </tr>\n",
       "    <tr>\n",
       "      <th>1</th>\n",
       "      <td>110278</td>\n",
       "      <td>satisfied</td>\n",
       "      <td>Male</td>\n",
       "      <td>Loyal Customer</td>\n",
       "      <td>47</td>\n",
       "      <td>Personal Travel</td>\n",
       "      <td>Business</td>\n",
       "      <td>2464</td>\n",
       "      <td>0</td>\n",
       "      <td>0</td>\n",
       "      <td>...</td>\n",
       "      <td>3</td>\n",
       "      <td>4</td>\n",
       "      <td>4</td>\n",
       "      <td>4</td>\n",
       "      <td>2</td>\n",
       "      <td>3</td>\n",
       "      <td>2</td>\n",
       "      <td>310</td>\n",
       "      <td>305.0</td>\n",
       "      <td>1</td>\n",
       "    </tr>\n",
       "    <tr>\n",
       "      <th>2</th>\n",
       "      <td>103199</td>\n",
       "      <td>satisfied</td>\n",
       "      <td>Female</td>\n",
       "      <td>Loyal Customer</td>\n",
       "      <td>15</td>\n",
       "      <td>Personal Travel</td>\n",
       "      <td>Eco</td>\n",
       "      <td>2138</td>\n",
       "      <td>0</td>\n",
       "      <td>0</td>\n",
       "      <td>...</td>\n",
       "      <td>2</td>\n",
       "      <td>3</td>\n",
       "      <td>3</td>\n",
       "      <td>4</td>\n",
       "      <td>4</td>\n",
       "      <td>4</td>\n",
       "      <td>2</td>\n",
       "      <td>0</td>\n",
       "      <td>0.0</td>\n",
       "      <td>1</td>\n",
       "    </tr>\n",
       "    <tr>\n",
       "      <th>3</th>\n",
       "      <td>47462</td>\n",
       "      <td>satisfied</td>\n",
       "      <td>Female</td>\n",
       "      <td>Loyal Customer</td>\n",
       "      <td>60</td>\n",
       "      <td>Personal Travel</td>\n",
       "      <td>Eco</td>\n",
       "      <td>623</td>\n",
       "      <td>0</td>\n",
       "      <td>0</td>\n",
       "      <td>...</td>\n",
       "      <td>1</td>\n",
       "      <td>1</td>\n",
       "      <td>0</td>\n",
       "      <td>1</td>\n",
       "      <td>4</td>\n",
       "      <td>1</td>\n",
       "      <td>3</td>\n",
       "      <td>0</td>\n",
       "      <td>0.0</td>\n",
       "      <td>1</td>\n",
       "    </tr>\n",
       "    <tr>\n",
       "      <th>4</th>\n",
       "      <td>120011</td>\n",
       "      <td>satisfied</td>\n",
       "      <td>Female</td>\n",
       "      <td>Loyal Customer</td>\n",
       "      <td>70</td>\n",
       "      <td>Personal Travel</td>\n",
       "      <td>Eco</td>\n",
       "      <td>354</td>\n",
       "      <td>0</td>\n",
       "      <td>0</td>\n",
       "      <td>...</td>\n",
       "      <td>2</td>\n",
       "      <td>2</td>\n",
       "      <td>0</td>\n",
       "      <td>2</td>\n",
       "      <td>4</td>\n",
       "      <td>2</td>\n",
       "      <td>5</td>\n",
       "      <td>0</td>\n",
       "      <td>0.0</td>\n",
       "      <td>1</td>\n",
       "    </tr>\n",
       "  </tbody>\n",
       "</table>\n",
       "<p>5 rows × 25 columns</p>\n",
       "</div>"
      ],
      "text/plain": [
       "       id satisfaction_v2  Gender   Customer Type  Age   Type of Travel  \\\n",
       "0   11112       satisfied  Female  Loyal Customer   65  Personal Travel   \n",
       "1  110278       satisfied    Male  Loyal Customer   47  Personal Travel   \n",
       "2  103199       satisfied  Female  Loyal Customer   15  Personal Travel   \n",
       "3   47462       satisfied  Female  Loyal Customer   60  Personal Travel   \n",
       "4  120011       satisfied  Female  Loyal Customer   70  Personal Travel   \n",
       "\n",
       "      Class  Flight Distance  Seat comfort  Departure/Arrival time convenient  \\\n",
       "0       Eco              265             0                                  0   \n",
       "1  Business             2464             0                                  0   \n",
       "2       Eco             2138             0                                  0   \n",
       "3       Eco              623             0                                  0   \n",
       "4       Eco              354             0                                  0   \n",
       "\n",
       "   ...  Ease of Online booking  On-board service  Leg room service  \\\n",
       "0  ...                       3                 3                 0   \n",
       "1  ...                       3                 4                 4   \n",
       "2  ...                       2                 3                 3   \n",
       "3  ...                       1                 1                 0   \n",
       "4  ...                       2                 2                 0   \n",
       "\n",
       "   Baggage handling  Checkin service  Cleanliness  Online boarding  \\\n",
       "0                 3                5            3                2   \n",
       "1                 4                2            3                2   \n",
       "2                 4                4            4                2   \n",
       "3                 1                4            1                3   \n",
       "4                 2                4            2                5   \n",
       "\n",
       "   Departure Delay in Minutes  Arrival Delay in Minutes  satisfaction_binary  \n",
       "0                           0                       0.0                    1  \n",
       "1                         310                     305.0                    1  \n",
       "2                           0                       0.0                    1  \n",
       "3                           0                       0.0                    1  \n",
       "4                           0                       0.0                    1  \n",
       "\n",
       "[5 rows x 25 columns]"
      ]
     },
     "execution_count": 5,
     "metadata": {},
     "output_type": "execute_result"
    }
   ],
   "source": [
    "df.head()"
   ]
  },
  {
   "cell_type": "markdown",
   "metadata": {},
   "source": [
    "## Satisfcation based on gender and class "
   ]
  },
  {
   "cell_type": "code",
   "execution_count": 8,
   "metadata": {
    "ExecuteTime": {
     "end_time": "2020-02-03T09:20:21.017262Z",
     "start_time": "2020-02-03T09:20:21.014269Z"
    }
   },
   "outputs": [
    {
     "data": {
      "text/html": [
       "<div>\n",
       "<style scoped>\n",
       "    .dataframe tbody tr th:only-of-type {\n",
       "        vertical-align: middle;\n",
       "    }\n",
       "\n",
       "    .dataframe tbody tr th {\n",
       "        vertical-align: top;\n",
       "    }\n",
       "\n",
       "    .dataframe thead th {\n",
       "        text-align: right;\n",
       "    }\n",
       "</style>\n",
       "<table border=\"1\" class=\"dataframe\">\n",
       "  <thead>\n",
       "    <tr style=\"text-align: right;\">\n",
       "      <th>Gender</th>\n",
       "      <th>Female</th>\n",
       "      <th>Male</th>\n",
       "    </tr>\n",
       "    <tr>\n",
       "      <th>Class</th>\n",
       "      <th></th>\n",
       "      <th></th>\n",
       "    </tr>\n",
       "  </thead>\n",
       "  <tbody>\n",
       "    <tr>\n",
       "      <th>Business</th>\n",
       "      <td>0.720628</td>\n",
       "      <td>0.697997</td>\n",
       "    </tr>\n",
       "    <tr>\n",
       "      <th>Eco</th>\n",
       "      <td>0.590799</td>\n",
       "      <td>0.190090</td>\n",
       "    </tr>\n",
       "    <tr>\n",
       "      <th>Eco Plus</th>\n",
       "      <td>0.577930</td>\n",
       "      <td>0.258493</td>\n",
       "    </tr>\n",
       "  </tbody>\n",
       "</table>\n",
       "</div>"
      ],
      "text/plain": [
       "Gender      Female      Male\n",
       "Class                       \n",
       "Business  0.720628  0.697997\n",
       "Eco       0.590799  0.190090\n",
       "Eco Plus  0.577930  0.258493"
      ]
     },
     "execution_count": 8,
     "metadata": {},
     "output_type": "execute_result"
    }
   ],
   "source": [
    "df.pivot_table(index=\"Class\", columns=\"Gender\", values='satisfaction_binary', aggfunc='mean')"
   ]
  },
  {
   "cell_type": "markdown",
   "metadata": {},
   "source": [
    "## What is most correlated with satisfaction"
   ]
  },
  {
   "cell_type": "code",
   "execution_count": 12,
   "metadata": {
    "ExecuteTime": {
     "end_time": "2020-02-03T09:20:25.154431Z",
     "start_time": "2020-02-03T09:20:25.150441Z"
    }
   },
   "outputs": [
    {
     "data": {
      "text/plain": [
       "satisfaction_binary                  1.000000\n",
       "Inflight entertainment               0.523496\n",
       "Ease of Online booking               0.431772\n",
       "Online support                       0.390143\n",
       "On-board service                     0.352047\n",
       "Online boarding                      0.338147\n",
       "Leg room service                     0.304928\n",
       "Checkin service                      0.266179\n",
       "Baggage handling                     0.260347\n",
       "Cleanliness                          0.259330\n",
       "Seat comfort                         0.242384\n",
       "Inflight wifi service                0.227062\n",
       "Food and drink                       0.120677\n",
       "Age                                  0.117971\n",
       "id                                   0.013728\n",
       "Gate location                       -0.012071\n",
       "Departure/Arrival time convenient   -0.015507\n",
       "Flight Distance                     -0.039224\n",
       "Departure Delay in Minutes          -0.073909\n",
       "Arrival Delay in Minutes            -0.080691\n",
       "Name: satisfaction_binary, dtype: float64"
      ]
     },
     "execution_count": 12,
     "metadata": {},
     "output_type": "execute_result"
    }
   ],
   "source": [
    "df.corr().satisfaction_binary.sort_values(ascending=False)"
   ]
  },
  {
   "cell_type": "markdown",
   "metadata": {},
   "source": [
    "## Can we check if Online features have duplicate info?\n",
    "\n",
    "This is a very open question, so a lot of ways to go about this. Correlation might be one, or\n",
    "checking the frequency of all of them against each other might be another."
   ]
  },
  {
   "cell_type": "code",
   "execution_count": 24,
   "metadata": {
    "ExecuteTime": {
     "end_time": "2020-02-03T09:20:27.513682Z",
     "start_time": "2020-02-03T09:20:27.509694Z"
    }
   },
   "outputs": [
    {
     "data": {
      "text/plain": [
       "Arrival Delay in Minutes            -0.039806\n",
       "Departure Delay in Minutes          -0.036545\n",
       "Flight Distance                     -0.022299\n",
       "id                                   0.000830\n",
       "Gate location                        0.001442\n",
       "Departure/Arrival time convenient    0.001755\n",
       "Food and drink                       0.041189\n",
       "Age                                  0.071594\n",
       "Checkin service                      0.137744\n",
       "Seat comfort                         0.211531\n",
       "Inflight entertainment               0.321731\n",
       "Leg room service                     0.355122\n",
       "Baggage handling                     0.398322\n",
       "Cleanliness                          0.417675\n",
       "satisfaction_binary                  0.431772\n",
       "On-board service                     0.436264\n",
       "Inflight wifi service                0.601100\n",
       "Online support                       0.617489\n",
       "Online boarding                      0.684320\n",
       "Ease of Online booking               1.000000\n",
       "Name: Ease of Online booking, dtype: float64"
      ]
     },
     "execution_count": 24,
     "metadata": {},
     "output_type": "execute_result"
    }
   ],
   "source": [
    "df.corr()['Ease of Online booking'].sort_values()"
   ]
  },
  {
   "cell_type": "code",
   "execution_count": 25,
   "metadata": {},
   "outputs": [
    {
     "data": {
      "text/plain": [
       "Arrival Delay in Minutes            -0.036087\n",
       "Departure Delay in Minutes          -0.034018\n",
       "Flight Distance                     -0.032022\n",
       "Departure/Arrival time convenient   -0.000546\n",
       "Gate location                        0.002908\n",
       "Food and drink                       0.028554\n",
       "id                                   0.054023\n",
       "Cleanliness                          0.095726\n",
       "Baggage handling                     0.102444\n",
       "Seat comfort                         0.120278\n",
       "Age                                  0.121201\n",
       "Leg room service                     0.138433\n",
       "On-board service                     0.157930\n",
       "Checkin service                      0.206824\n",
       "satisfaction_binary                  0.390143\n",
       "Inflight entertainment               0.441957\n",
       "Inflight wifi service                0.557340\n",
       "Ease of Online booking               0.617489\n",
       "Online boarding                      0.669843\n",
       "Online support                       1.000000\n",
       "Name: Online support, dtype: float64"
      ]
     },
     "execution_count": 25,
     "metadata": {},
     "output_type": "execute_result"
    }
   ],
   "source": [
    "df.corr()['Online support'].sort_values()"
   ]
  },
  {
   "cell_type": "code",
   "execution_count": 26,
   "metadata": {},
   "outputs": [
    {
     "data": {
      "text/plain": [
       "Arrival Delay in Minutes            -0.021784\n",
       "Departure Delay in Minutes          -0.020045\n",
       "Gate location                       -0.003043\n",
       "Departure/Arrival time convenient   -0.000623\n",
       "Flight Distance                      0.009604\n",
       "Food and drink                       0.013587\n",
       "id                                   0.025328\n",
       "Age                                  0.037973\n",
       "Cleanliness                          0.106238\n",
       "Baggage handling                     0.111920\n",
       "Leg room service                     0.112900\n",
       "Seat comfort                         0.130396\n",
       "On-board service                     0.139506\n",
       "Checkin service                      0.184344\n",
       "satisfaction_binary                  0.338147\n",
       "Inflight entertainment               0.355714\n",
       "Inflight wifi service                0.631786\n",
       "Online support                       0.669843\n",
       "Ease of Online booking               0.684320\n",
       "Online boarding                      1.000000\n",
       "Name: Online boarding, dtype: float64"
      ]
     },
     "execution_count": 26,
     "metadata": {},
     "output_type": "execute_result"
    }
   ],
   "source": [
    "df.corr()['Online boarding'].sort_values()"
   ]
  },
  {
   "cell_type": "code",
   "execution_count": null,
   "metadata": {},
   "outputs": [],
   "source": []
  }
 ],
 "metadata": {
  "kernelspec": {
   "display_name": "Python 3 (ipykernel)",
   "language": "python",
   "name": "python3"
  },
  "language_info": {
   "codemirror_mode": {
    "name": "ipython",
    "version": 3
   },
   "file_extension": ".py",
   "mimetype": "text/x-python",
   "name": "python",
   "nbconvert_exporter": "python",
   "pygments_lexer": "ipython3",
   "version": "3.9.7"
  }
 },
 "nbformat": 4,
 "nbformat_minor": 4
}
