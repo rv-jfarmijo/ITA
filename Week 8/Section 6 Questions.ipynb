{
 "cells": [
  {
   "cell_type": "markdown",
   "metadata": {},
   "source": [
    "# Extra Examples - Merging\n",
    "\n",
    "Heres a dataset dumped directly from a database, so we need to stitch it together ourselves.\n",
    "https://www.kaggle.com/uciml/restaurant-data-with-consumer-ratings\n",
    "\n",
    "The dataset comes with a README file that outlines where everything comes from which might help.\n",
    "\n",
    "Lets try to:\n",
    "\n",
    "1. Merge all restaurant data\n",
    "2. Merge all user data\n",
    "3. Merge restaurant data and user data together using user ratings\n",
    "4. Realise that we've merged too much, and merge user ratings + user profile + geoplaces\n",
    "5. Use some groupby power and determine the top five restaurants in the dataset"
   ]
  },
  {
   "cell_type": "code",
   "execution_count": 1,
   "metadata": {
    "ExecuteTime": {
     "end_time": "2020-02-03T05:34:19.337103Z",
     "start_time": "2020-02-03T05:34:17.748752Z"
    }
   },
   "outputs": [
    {
     "name": "stdout",
     "output_type": "stream",
     "text": [
      "['chefmozparking.csv', 'chefmozaccepts.csv', 'userpayment.csv', 'geoplaces2.csv', 'rating_final.csv', 'usercuisine.csv', 'chefmozcuisine.csv', 'chefmozhours4.csv', 'userprofile.csv']\n"
     ]
    }
   ],
   "source": [
    "import pandas as pd\n",
    "import os\n",
    "\n",
    "files = [f for f in os.listdir() if f.endswith(\".csv\")]\n",
    "print(files)"
   ]
  },
  {
   "cell_type": "markdown",
   "metadata": {},
   "source": [
    "## Merging restaurant data"
   ]
  },
  {
   "cell_type": "code",
   "execution_count": 54,
   "metadata": {
    "ExecuteTime": {
     "end_time": "2020-02-03T05:53:34.743904Z",
     "start_time": "2020-02-03T05:53:34.739937Z"
    }
   },
   "outputs": [],
   "source": [
    "restaurant_df = None\n",
    "restaurant_files = []\n",
    "user_files = []\n",
    "for f in files:\n",
    "    if 'user' in f:\n",
    "        user_files.append(f)\n",
    "    elif f == 'rating_final.csv':\n",
    "        pass\n",
    "    else:\n",
    "        restaurant_files.append(f)\n",
    "def df_zip(frame, lst, merge_on):\n",
    "    for i in lst:\n",
    "        if frame is None:\n",
    "            frame = pd.read_csv(i)\n",
    "        else:\n",
    "            frame = frame.merge(pd.read_csv(i), on = merge_on)\n",
    "    return frame"
   ]
  },
  {
   "cell_type": "code",
   "execution_count": 56,
   "metadata": {},
   "outputs": [],
   "source": [
    "restaurant_df = df_zip(restaurant_df, restaurant_files, 'placeID')"
   ]
  },
  {
   "cell_type": "markdown",
   "metadata": {},
   "source": [
    "## Merging User data"
   ]
  },
  {
   "cell_type": "code",
   "execution_count": 58,
   "metadata": {
    "ExecuteTime": {
     "end_time": "2020-02-03T05:53:39.411690Z",
     "start_time": "2020-02-03T05:53:39.409690Z"
    }
   },
   "outputs": [],
   "source": [
    "user_df = None\n",
    "user_df = df_zip(user_df, user_files, 'userID')"
   ]
  },
  {
   "cell_type": "markdown",
   "metadata": {},
   "source": [
    "## Merging User ratings as well"
   ]
  },
  {
   "cell_type": "code",
   "execution_count": 59,
   "metadata": {
    "ExecuteTime": {
     "end_time": "2020-02-03T05:53:44.245951Z",
     "start_time": "2020-02-03T05:53:44.241962Z"
    }
   },
   "outputs": [],
   "source": [
    "ratings_df = pd.read_csv(\"rating_final.csv\")\n",
    "full_df = ratings_df.merge(user_df, on=\"userID\")\n",
    "full_df = full_df.merge(restaurant_df, on=\"placeID\")"
   ]
  },
  {
   "cell_type": "code",
   "execution_count": 61,
   "metadata": {},
   "outputs": [
    {
     "data": {
      "text/html": [
       "<div>\n",
       "<style scoped>\n",
       "    .dataframe tbody tr th:only-of-type {\n",
       "        vertical-align: middle;\n",
       "    }\n",
       "\n",
       "    .dataframe tbody tr th {\n",
       "        vertical-align: top;\n",
       "    }\n",
       "\n",
       "    .dataframe thead th {\n",
       "        text-align: right;\n",
       "    }\n",
       "</style>\n",
       "<table border=\"1\" class=\"dataframe\">\n",
       "  <thead>\n",
       "    <tr style=\"text-align: right;\">\n",
       "      <th></th>\n",
       "      <th>userID</th>\n",
       "      <th>placeID</th>\n",
       "      <th>rating</th>\n",
       "      <th>food_rating</th>\n",
       "      <th>service_rating</th>\n",
       "      <th>Upayment</th>\n",
       "      <th>Rcuisine_x</th>\n",
       "      <th>latitude_x</th>\n",
       "      <th>longitude_x</th>\n",
       "      <th>smoker</th>\n",
       "      <th>...</th>\n",
       "      <th>accessibility</th>\n",
       "      <th>price</th>\n",
       "      <th>url</th>\n",
       "      <th>Rambience</th>\n",
       "      <th>franchise</th>\n",
       "      <th>area</th>\n",
       "      <th>other_services</th>\n",
       "      <th>Rcuisine_y</th>\n",
       "      <th>hours</th>\n",
       "      <th>days</th>\n",
       "    </tr>\n",
       "  </thead>\n",
       "  <tbody>\n",
       "    <tr>\n",
       "      <th>0</th>\n",
       "      <td>U1077</td>\n",
       "      <td>135085</td>\n",
       "      <td>2</td>\n",
       "      <td>2</td>\n",
       "      <td>2</td>\n",
       "      <td>VISA</td>\n",
       "      <td>Mexican</td>\n",
       "      <td>22.156469</td>\n",
       "      <td>-100.98554</td>\n",
       "      <td>false</td>\n",
       "      <td>...</td>\n",
       "      <td>no_accessibility</td>\n",
       "      <td>medium</td>\n",
       "      <td>?</td>\n",
       "      <td>familiar</td>\n",
       "      <td>f</td>\n",
       "      <td>closed</td>\n",
       "      <td>none</td>\n",
       "      <td>Fast_Food</td>\n",
       "      <td>00:00-00:00;</td>\n",
       "      <td>Mon;Tue;Wed;Thu;Fri;</td>\n",
       "    </tr>\n",
       "    <tr>\n",
       "      <th>1</th>\n",
       "      <td>U1077</td>\n",
       "      <td>135085</td>\n",
       "      <td>2</td>\n",
       "      <td>2</td>\n",
       "      <td>2</td>\n",
       "      <td>VISA</td>\n",
       "      <td>Mexican</td>\n",
       "      <td>22.156469</td>\n",
       "      <td>-100.98554</td>\n",
       "      <td>false</td>\n",
       "      <td>...</td>\n",
       "      <td>no_accessibility</td>\n",
       "      <td>medium</td>\n",
       "      <td>?</td>\n",
       "      <td>familiar</td>\n",
       "      <td>f</td>\n",
       "      <td>closed</td>\n",
       "      <td>none</td>\n",
       "      <td>Fast_Food</td>\n",
       "      <td>00:00-00:00;</td>\n",
       "      <td>Sat;</td>\n",
       "    </tr>\n",
       "    <tr>\n",
       "      <th>2</th>\n",
       "      <td>U1077</td>\n",
       "      <td>135085</td>\n",
       "      <td>2</td>\n",
       "      <td>2</td>\n",
       "      <td>2</td>\n",
       "      <td>VISA</td>\n",
       "      <td>Mexican</td>\n",
       "      <td>22.156469</td>\n",
       "      <td>-100.98554</td>\n",
       "      <td>false</td>\n",
       "      <td>...</td>\n",
       "      <td>no_accessibility</td>\n",
       "      <td>medium</td>\n",
       "      <td>?</td>\n",
       "      <td>familiar</td>\n",
       "      <td>f</td>\n",
       "      <td>closed</td>\n",
       "      <td>none</td>\n",
       "      <td>Fast_Food</td>\n",
       "      <td>00:00-00:00;</td>\n",
       "      <td>Sun;</td>\n",
       "    </tr>\n",
       "    <tr>\n",
       "      <th>3</th>\n",
       "      <td>U1077</td>\n",
       "      <td>135085</td>\n",
       "      <td>2</td>\n",
       "      <td>2</td>\n",
       "      <td>2</td>\n",
       "      <td>cash</td>\n",
       "      <td>Mexican</td>\n",
       "      <td>22.156469</td>\n",
       "      <td>-100.98554</td>\n",
       "      <td>false</td>\n",
       "      <td>...</td>\n",
       "      <td>no_accessibility</td>\n",
       "      <td>medium</td>\n",
       "      <td>?</td>\n",
       "      <td>familiar</td>\n",
       "      <td>f</td>\n",
       "      <td>closed</td>\n",
       "      <td>none</td>\n",
       "      <td>Fast_Food</td>\n",
       "      <td>00:00-00:00;</td>\n",
       "      <td>Mon;Tue;Wed;Thu;Fri;</td>\n",
       "    </tr>\n",
       "  </tbody>\n",
       "</table>\n",
       "<p>4 rows × 50 columns</p>\n",
       "</div>"
      ],
      "text/plain": [
       "  userID  placeID  rating  food_rating  service_rating Upayment Rcuisine_x  \\\n",
       "0  U1077   135085       2            2               2     VISA    Mexican   \n",
       "1  U1077   135085       2            2               2     VISA    Mexican   \n",
       "2  U1077   135085       2            2               2     VISA    Mexican   \n",
       "3  U1077   135085       2            2               2     cash    Mexican   \n",
       "\n",
       "   latitude_x  longitude_x smoker  ...     accessibility   price url  \\\n",
       "0   22.156469   -100.98554  false  ...  no_accessibility  medium   ?   \n",
       "1   22.156469   -100.98554  false  ...  no_accessibility  medium   ?   \n",
       "2   22.156469   -100.98554  false  ...  no_accessibility  medium   ?   \n",
       "3   22.156469   -100.98554  false  ...  no_accessibility  medium   ?   \n",
       "\n",
       "  Rambience franchise    area  other_services Rcuisine_y         hours  \\\n",
       "0  familiar         f  closed            none  Fast_Food  00:00-00:00;   \n",
       "1  familiar         f  closed            none  Fast_Food  00:00-00:00;   \n",
       "2  familiar         f  closed            none  Fast_Food  00:00-00:00;   \n",
       "3  familiar         f  closed            none  Fast_Food  00:00-00:00;   \n",
       "\n",
       "                   days  \n",
       "0  Mon;Tue;Wed;Thu;Fri;  \n",
       "1                  Sat;  \n",
       "2                  Sun;  \n",
       "3  Mon;Tue;Wed;Thu;Fri;  \n",
       "\n",
       "[4 rows x 50 columns]"
      ]
     },
     "execution_count": 61,
     "metadata": {},
     "output_type": "execute_result"
    }
   ],
   "source": [
    "full_df[0:4]"
   ]
  },
  {
   "cell_type": "markdown",
   "metadata": {},
   "source": [
    "## Merge Subsets"
   ]
  },
  {
   "cell_type": "code",
   "execution_count": 65,
   "metadata": {
    "ExecuteTime": {
     "end_time": "2020-02-03T05:53:52.675647Z",
     "start_time": "2020-02-03T05:53:52.672677Z"
    }
   },
   "outputs": [],
   "source": [
    "geo_df = pd.read_csv('geoplaces2.csv')\n",
    "user_prof_df = pd.read_csv('userprofile.csv')\n",
    "target_df = ratings_df.merge(geo_df, on='placeID')\n",
    "target_df = target_df.merge(user_prof_df, on='userID')"
   ]
  },
  {
   "cell_type": "markdown",
   "metadata": {},
   "source": [
    "## Top 5 restaurants based off rating\n",
    "\n",
    "Note to answer this we didn't actually need the user profile data. But we might use it to remove votes from users that don't satisfy criteria (for example, we might want to make sure the user has been to multiple restaurants, or is a certain age, or doesnt have suspicious voting trends - aka giving everyone a one)."
   ]
  },
  {
   "cell_type": "code",
   "execution_count": 89,
   "metadata": {
    "ExecuteTime": {
     "end_time": "2020-02-03T05:53:57.171285Z",
     "start_time": "2020-02-03T05:53:57.168286Z"
    }
   },
   "outputs": [],
   "source": [
    "rankings = target_df.groupby('name').agg(rating_mean=(\"rating\", \"mean\"),\n",
    "                                          rating_count=(\"rating\", 'nunique')).reset_index()\n",
    "#     {\"Sales\": [(\"SalesMean\", \"mean\"), (\"SalesUncert\", mc_uncert)], \"Customers\": \"count\"})\n"
   ]
  },
  {
   "cell_type": "code",
   "execution_count": 96,
   "metadata": {},
   "outputs": [
    {
     "data": {
      "text/html": [
       "<div>\n",
       "<style scoped>\n",
       "    .dataframe tbody tr th:only-of-type {\n",
       "        vertical-align: middle;\n",
       "    }\n",
       "\n",
       "    .dataframe tbody tr th {\n",
       "        vertical-align: top;\n",
       "    }\n",
       "\n",
       "    .dataframe thead th {\n",
       "        text-align: right;\n",
       "    }\n",
       "</style>\n",
       "<table border=\"1\" class=\"dataframe\">\n",
       "  <thead>\n",
       "    <tr style=\"text-align: right;\">\n",
       "      <th></th>\n",
       "      <th>name</th>\n",
       "      <th>rating_mean</th>\n",
       "      <th>rating_count</th>\n",
       "    </tr>\n",
       "  </thead>\n",
       "  <tbody>\n",
       "    <tr>\n",
       "      <th>55</th>\n",
       "      <td>Restaurant Las Mananitas</td>\n",
       "      <td>2.000000</td>\n",
       "      <td>1</td>\n",
       "    </tr>\n",
       "    <tr>\n",
       "      <th>44</th>\n",
       "      <td>Michiko Restaurant Japones</td>\n",
       "      <td>2.000000</td>\n",
       "      <td>1</td>\n",
       "    </tr>\n",
       "    <tr>\n",
       "      <th>108</th>\n",
       "      <td>emilianos</td>\n",
       "      <td>2.000000</td>\n",
       "      <td>1</td>\n",
       "    </tr>\n",
       "    <tr>\n",
       "      <th>99</th>\n",
       "      <td>cafe punta del cielo</td>\n",
       "      <td>1.833333</td>\n",
       "      <td>2</td>\n",
       "    </tr>\n",
       "    <tr>\n",
       "      <th>32</th>\n",
       "      <td>La Estrella de Dimas</td>\n",
       "      <td>1.800000</td>\n",
       "      <td>2</td>\n",
       "    </tr>\n",
       "  </tbody>\n",
       "</table>\n",
       "</div>"
      ],
      "text/plain": [
       "                           name  rating_mean  rating_count\n",
       "55     Restaurant Las Mananitas     2.000000             1\n",
       "44   Michiko Restaurant Japones     2.000000             1\n",
       "108                   emilianos     2.000000             1\n",
       "99         cafe punta del cielo     1.833333             2\n",
       "32         La Estrella de Dimas     1.800000             2"
      ]
     },
     "execution_count": 96,
     "metadata": {},
     "output_type": "execute_result"
    }
   ],
   "source": [
    "#  Work to be done here regarding the rating count of course.\n",
    "\n",
    "rankings.sort_values(by=['rating_mean'], ascending=False)[:5]"
   ]
  },
  {
   "cell_type": "code",
   "execution_count": null,
   "metadata": {},
   "outputs": [],
   "source": []
  }
 ],
 "metadata": {
  "kernelspec": {
   "display_name": "Python 3 (ipykernel)",
   "language": "python",
   "name": "python3"
  },
  "language_info": {
   "codemirror_mode": {
    "name": "ipython",
    "version": 3
   },
   "file_extension": ".py",
   "mimetype": "text/x-python",
   "name": "python",
   "nbconvert_exporter": "python",
   "pygments_lexer": "ipython3",
   "version": "3.9.7"
  }
 },
 "nbformat": 4,
 "nbformat_minor": 4
}
